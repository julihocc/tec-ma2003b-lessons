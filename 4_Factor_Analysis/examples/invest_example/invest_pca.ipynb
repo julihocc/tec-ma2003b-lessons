{
 "cells": [
  {
   "cell_type": "markdown",
   "id": "5f6d2276",
   "metadata": {},
   "source": [
    "# Invest PCA example\n",
    "\n",
    "This script loads a small CSV of asset returns and runs PCA on the\n",
    "correlation-like matrix (by standardizing returns first). It contains\n",
    "py-percent cells and detailed comments so you can run it interactively\n",
    "and read the explanation of the outputs inline.\n",
    "\n",
    "## What to expect when you run this file:\n",
    "- Printed `eigenvalues`: the variances explained by each principal component.\n",
    "- Printed `explained_ratio`: proportion of total variance per component.\n",
    "- Printed `cumulative`: cumulative explained variance used to decide how many\n",
    "  components to retain.\n",
    "\n",
    "The file also saves two figures next to the script: a scree plot and a\n",
    "biplot for the first two PCs."
   ]
  },
  {
   "cell_type": "code",
   "execution_count": null,
   "id": "1237db44",
   "metadata": {},
   "outputs": [],
   "source": [
    "from pathlib import Path\n",
    "\n",
    "import matplotlib.pyplot as plt\n",
    "import numpy as np\n",
    "import pandas as pd\n",
    "from sklearn.decomposition import PCA\n",
    "from sklearn.preprocessing import StandardScaler"
   ]
  },
  {
   "cell_type": "code",
   "execution_count": null,
   "id": "c481655d",
   "metadata": {},
   "outputs": [],
   "source": [
    "# Simple behaviour: expect invest.csv in the same folder as this script\n",
    "# Use Path to make paths robust regardless of current working directory.\n",
    "script_dir = Path(__file__).resolve().parent\n",
    "data_path = script_dir / \"invest.csv\"\n",
    "X = pd.read_csv(data_path)\n",
    "# If the CSV has a leading index-like column (common in some exports), drop it\n",
    "cols = list(X.columns)\n",
    "if cols and cols[0].lower() in (\"rownames\", \"index\"):\n",
    "    X = X.iloc[:, 1:]\n",
    "    cols = list(X.columns)"
   ]
  },
  {
   "cell_type": "markdown",
   "id": "7167d880",
   "metadata": {},
   "source": [
    "## Preprocessing and PCA\n",
    "\n",
    "We standardize the input columns so PCA operates on a correlation-like\n",
    "matrix (each column will have mean ~0 and unit variance). This is common\n",
    "when variables are on different scales or when you want components to be\n",
    "scale-invariant (e.g., asset returns)."
   ]
  },
  {
   "cell_type": "code",
   "execution_count": null,
   "id": "d126edcc",
   "metadata": {},
   "outputs": [],
   "source": [
    "# Standardize (use correlation-like behavior)\n",
    "Xs = StandardScaler().fit_transform(X.values)\n",
    "\n",
    "# Fit PCA and extract scores and summaries\n",
    "pca = PCA()\n",
    "Z = pca.fit_transform(Xs)\n",
    "\n",
    "eigenvalues = pca.explained_variance_\n",
    "explained_ratio = pca.explained_variance_ratio_\n",
    "\n",
    "print(\"Eigenvalues:\", np.round(eigenvalues, 3))\n",
    "print(\"Explained ratio:\", np.round(explained_ratio, 3))\n",
    "print(\"Cumulative:\", np.round(np.cumsum(explained_ratio), 3))"
   ]
  },
  {
   "cell_type": "markdown",
   "id": "355b1ed7",
   "metadata": {},
   "source": [
    "### Quick interpretation of the printed results (concrete)\n",
    "\n",
    "The printed eigenvalues and explained ratios are the primary numeric\n",
    "summaries you should inspect before looking at the plots. For example, a\n",
    "typical run of this file produced:\n",
    "\n",
    "- Eigenvalues: `[3.895, 0.092, 0.011, 0.004]`\n",
    "- Explained ratio: `[0.973, 0.023, 0.003, 0.001]`\n",
    "\n",
    "Interpretation:\n",
    "- A single dominant component (PC1 ≈ 97.3%): this indicates nearly all\n",
    "  variance is captured by one linear combination of the input variables.\n",
    "  In finance, this commonly corresponds to a market factor that moves\n",
    "  most instruments together.\n",
    "- Remaining components explain minimal variance and will often reflect\n",
    "  idiosyncratic noise. Use them cautiously in downstream models.\n",
    "\n",
    "Practical actions:\n",
    "- Inspect `pca.components_[0]` to see which variables have the largest\n",
    "  loadings on PC1 (these are the instruments most aligned with the market\n",
    "  factor).\n",
    "- If you require interpretable factors despite a dominant PC, consider\n",
    "  rotating a small set of leading components or building a one-factor model\n",
    "  based on PC1."
   ]
  },
  {
   "cell_type": "markdown",
   "id": "4cc26654",
   "metadata": {},
   "source": [
    "### Scree plot — quick interpretation\n",
    "\n",
    "The scree plot below shows eigenvalues (variance explained) by component\n",
    "index. Look for an \"elbow\" where the curve flattens. Components left of\n",
    "the elbow capture most structured variation. Complement the visual check\n",
    "with the printed cumulative explained-variance numbers above."
   ]
  },
  {
   "cell_type": "code",
   "execution_count": null,
   "id": "d090002f",
   "metadata": {},
   "outputs": [],
   "source": [
    "# Scree plot\n",
    "plt.figure(figsize=(6, 3))\n",
    "components = np.arange(1, len(eigenvalues) + 1)\n",
    "plt.plot(components, eigenvalues, \"o-\", lw=2)\n",
    "plt.xticks(components)\n",
    "plt.xlabel(\"Component\")\n",
    "plt.ylabel(\"Eigenvalue\")\n",
    "plt.title(\"Invest example: Scree plot\")\n",
    "plt.grid(True, ls=\":\")\n",
    "plt.tight_layout()\n",
    "# Ensure output directory exists and write the figure using Path\n",
    "scree_out = script_dir / \"invest_scree.png\"\n",
    "scree_out.parent.mkdir(parents=True, exist_ok=True)\n",
    "plt.savefig(scree_out, dpi=150)\n",
    "print(f\"Saved {scree_out}\")"
   ]
  },
  {
   "cell_type": "markdown",
   "id": "0b1d5f15",
   "metadata": {},
   "source": [
    "### Biplot (first two components) — interpretation notes\n",
    "\n",
    "The biplot overlays observation scores (points) with variable loadings\n",
    "(arrows). Arrows pointing together indicate correlated variables; longer\n",
    "arrows indicate stronger contribution to the plotted PCs. Use the biplot to\n",
    "see which variables drive separation among observations."
   ]
  },
  {
   "cell_type": "code",
   "execution_count": null,
   "id": "c0f0474f",
   "metadata": {},
   "outputs": [],
   "source": [
    "# Biplot (first two components)\n",
    "plt.figure(figsize=(5, 5))\n",
    "xs = Z[:, 0]\n",
    "ys = Z[:, 1]\n",
    "plt.scatter(xs, ys, alpha=0.6, s=20)\n",
    "for i, col in enumerate(cols):\n",
    "    vx, vy = pca.components_[:2, i] * max(xs.std(), ys.std()) * 3\n",
    "    plt.arrow(0, 0, vx, vy, color=\"r\", head_width=0.05)\n",
    "    plt.text(vx * 1.05, vy * 1.05, col, color=\"r\")\n",
    "plt.xlabel(\"PC1\")\n",
    "plt.ylabel(\"PC2\")\n",
    "plt.title(\"Invest example: Biplot (PC1 vs PC2)\")\n",
    "plt.grid(True, ls=\":\")\n",
    "plt.tight_layout()\n",
    "biplot_out = script_dir / \"invest_biplot.png\"\n",
    "biplot_out.parent.mkdir(parents=True, exist_ok=True)\n",
    "plt.savefig(biplot_out, dpi=150)\n",
    "print(f\"Saved {biplot_out}\")"
   ]
  },
  {
   "cell_type": "markdown",
   "id": "71e78365",
   "metadata": {},
   "source": [
    "## Conclusion\n",
    "\n",
    "- Use the scree plot to choose a small set of components that explain most\n",
    "  variance; check the cumulative numbers for a quantitative threshold.\n",
    "- Use the biplot or the `pca.components_` matrix to map retained components\n",
    "  back to the original variables and form interpretations or factor\n",
    "  constructions.\n",
    "- Remember PCA is linear and sensitive to outliers — preprocess accordingly."
   ]
  },
  {
   "cell_type": "markdown",
   "id": "b85aea10",
   "metadata": {},
   "source": [
    "## Detailed interpretation of example outputs\n",
    "\n",
    "The printed numbers and the figures above are the starting point for a\n",
    "practical interpretation. Below we walk through how to read the concrete\n",
    "quantities you just saw and what they imply for downstream analysis.\n",
    "\n",
    "- Example numbers observed when you run this file:\n",
    "  - Eigenvalues: e.g. `[3.895, 0.092, 0.011, 0.004]` (these are the variances\n",
    "    of the PCs when variables are standardized).\n",
    "  - Explained ratio: e.g. `[0.973, 0.023, 0.003, 0.001]` meaning PC1 explains\n",
    "    ~97.3% of the total variance.\n",
    "\n",
    "Interpretation and implications:\n",
    "- Highly dominant PC1 (97% explained)\n",
    "  - A single dimension captures almost all variation. For asset returns this\n",
    "    commonly corresponds to a market-wide factor. Actions:\n",
    "    - You can often summarize the dataset with PC1 alone for visualization\n",
    "      or for constructing simple one-factor models.\n",
    "    - Check `pca.components_[0]` to inspect which variables have large loadings\n",
    "      on PC1; these are the instruments that move most with the market factor.\n",
    "- Very small remaining eigenvalues\n",
    "  - PCs 2..n capture very little variance and are likely dominated by noise\n",
    "    or idiosyncratic effects. Actions:\n",
    "    - Avoid over-interpreting small PCs; instead, if you need interpretable\n",
    "      factors, consider rotating the first few components or using a\n",
    "      targeted factor model.\n",
    "\n",
    "Suggested follow-ups (practical next steps):\n",
    "- Print a compact table of loadings:\n",
    " - Transform `pca.components_[:k]` into a DataFrame (index=PC, columns=vars)\n",
    "   and sort by absolute loading within each PC to identify driving variables.\n",
    "- If you need factor interpretability:\n",
    " - Consider orthogonal or oblique rotations (varimax, promax) on the first\n",
    "   few components and inspect rotated loadings.\n",
    "- For forecasting or risk-modeling:\n",
    " - Use PC1 as an aggregate factor in regressions; test whether adding PC2\n",
    "   materially improves predictive power despite its small variance share.\n",
    "\n",
    "Caveat:\n",
    "- When one PC dominates, downstream statistical estimators (e.g., covariance\n",
    "  inverses) can be unstable; use shrinkage or factor-based covariance\n",
    "  estimation when building portfolio models."
   ]
  }
 ],
 "metadata": {
  "jupytext": {
   "cell_metadata_filter": "-all",
   "main_language": "python",
   "notebook_metadata_filter": "-all"
  }
 },
 "nbformat": 4,
 "nbformat_minor": 5
}
