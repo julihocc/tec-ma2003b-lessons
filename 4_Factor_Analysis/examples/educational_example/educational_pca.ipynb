{
 "cells": [
  {
   "cell_type": "markdown",
   "id": "f7325bd4",
   "metadata": {},
   "source": [
    "# Principal Component Analysis: Educational Assessment Data\n",
    "\n",
    "This analysis demonstrates Principal Component Analysis (PCA) on student assessment data\n",
    "to understand patterns in academic performance across different skill areas.\n",
    "\n",
    "**Learning objectives:**\n",
    "- Apply PCA to identify underlying dimensions in multivariate data\n",
    "- Interpret eigenvalues and explained variance ratios\n",
    "- Use scree plots to determine optimal number of components\n",
    "- Understand variable relationships through biplots\n",
    "- Validate dimensionality reduction effectiveness"
   ]
  },
  {
   "cell_type": "markdown",
   "id": "271e1b3a",
   "metadata": {},
   "source": [
    "## Import Libraries and Setup"
   ]
  },
  {
   "cell_type": "code",
   "execution_count": null,
   "id": "d9d998aa",
   "metadata": {},
   "outputs": [],
   "source": [
    "import sys\n",
    "from pathlib import Path\n",
    "\n",
    "import matplotlib.pyplot as plt\n",
    "import numpy as np\n",
    "import pandas as pd\n",
    "from sklearn.decomposition import PCA\n",
    "from sklearn.preprocessing import StandardScaler\n",
    "\n",
    "# Simple logger\n",
    "import logging\n",
    "logger = logging.getLogger(__name__)"
   ]
  },
  {
   "cell_type": "markdown",
   "id": "67cd5f28",
   "metadata": {},
   "source": [
    "## Data Loading and Exploration"
   ]
  },
  {
   "cell_type": "code",
   "execution_count": null,
   "id": "080fc16c",
   "metadata": {},
   "outputs": [],
   "source": [
    "script_dir = Path(__file__).resolve().parent\n",
    "data_path = script_dir / \"educational.csv\"\n",
    "\n",
    "if not data_path.exists():\n",
    "    logger.error(f\"Data file not found: {data_path}\")\n",
    "    logger.info(\"Run 'fetch_educational.py' to generate the required data file\")\n",
    "    sys.exit(2)\n",
    "\n",
    "df = pd.read_csv(data_path)\n",
    "logger.info(\n",
    "    f\"Loaded dataset: {len(df)} students, {len(df.columns) - 1} assessment variables\"\n",
    ")\n",
    "\n",
    "# Extract assessment variables (exclude Student ID)\n",
    "X = df.iloc[:, 1:]\n",
    "variable_names = list(X.columns)\n",
    "\n",
    "logger.info(f\"Assessment variables: {variable_names}\")\n",
    "logger.info(f\"Data shape: {X.shape}\")"
   ]
  },
  {
   "cell_type": "markdown",
   "id": "d2cde302",
   "metadata": {},
   "source": [
    "## Data Standardization\n",
    "\n",
    "Standardization ensures all variables contribute equally to the analysis,\n",
    "preventing variables with larger scales from dominating the principal components."
   ]
  },
  {
   "cell_type": "code",
   "execution_count": null,
   "id": "7f60a4ce",
   "metadata": {},
   "outputs": [],
   "source": [
    "scaler = StandardScaler()\n",
    "X_standardized = scaler.fit_transform(X)\n",
    "\n",
    "logger.info(\"Data standardized: mean ≈ 0, std ≈ 1 for all variables\")"
   ]
  },
  {
   "cell_type": "markdown",
   "id": "591c9d41",
   "metadata": {},
   "source": [
    "## Principal Component Analysis\n",
    "\n",
    "PCA identifies linear combinations of variables that capture maximum variance."
   ]
  },
  {
   "cell_type": "code",
   "execution_count": null,
   "id": "14cf9e5f",
   "metadata": {},
   "outputs": [],
   "source": [
    "pca = PCA()\n",
    "Z = pca.fit_transform(X_standardized)\n",
    "\n",
    "eigenvalues = pca.explained_variance_\n",
    "explained_ratio = pca.explained_variance_ratio_\n",
    "cumulative_variance = np.cumsum(explained_ratio)\n",
    "\n",
    "logger.info(\"PCA Results:\")\n",
    "logger.info(f\"Eigenvalues: {np.round(eigenvalues, 3)}\")\n",
    "logger.info(f\"Explained variance ratio: {np.round(explained_ratio, 3)}\")\n",
    "logger.info(f\"Cumulative variance: {np.round(cumulative_variance, 3)}\")"
   ]
  },
  {
   "cell_type": "markdown",
   "id": "67817678",
   "metadata": {},
   "source": [
    "### Interpreting the Variance Structure\n",
    "\n",
    "The eigenvalues and explained variance ratios reveal the underlying dimensionality:\n",
    "\n",
    "**Key insights:**\n",
    "- **PC1**: Captures the largest amount of variance, likely representing general academic ability\n",
    "- **PC2**: Secondary dimension, possibly distinguishing cognitive vs. social skills\n",
    "- **Later components**: May capture measurement noise or minor skill variations\n",
    "- **Cumulative variance**: Shows how much total information is retained with each component\n",
    "\n",
    "**Component retention strategy:**\n",
    "- Kaiser criterion: Retain components with eigenvalues > 1.0\n",
    "- Scree plot: Look for the \"elbow\" where eigenvalues level off\n",
    "- Practical rule: Retain components explaining ≥80% cumulative variance"
   ]
  },
  {
   "cell_type": "markdown",
   "id": "2731f3bc",
   "metadata": {},
   "source": [
    "## Scree Plot Analysis\n",
    "\n",
    "The scree plot visualizes eigenvalues to help determine the optimal number of components.\n",
    "Look for the \"elbow\" where the curve levels off, indicating diminishing returns."
   ]
  },
  {
   "cell_type": "code",
   "execution_count": null,
   "id": "80b196f9",
   "metadata": {},
   "outputs": [],
   "source": [
    "fig, ax = plt.subplots(figsize=(8, 5))\n",
    "components = np.arange(1, len(eigenvalues) + 1)\n",
    "\n",
    "ax.plot(components, eigenvalues, \"o-\", linewidth=2, color=\"steelblue\", markersize=8)\n",
    "ax.axhline(\n",
    "    y=1.0,\n",
    "    color=\"red\",\n",
    "    linestyle=\"--\",\n",
    "    alpha=0.7,\n",
    "    label=\"Kaiser criterion (eigenvalue = 1)\",\n",
    ")\n",
    "\n",
    "ax.set_xticks(components)\n",
    "ax.set_xlabel(\"Principal Component\")\n",
    "ax.set_ylabel(\"Eigenvalue\")\n",
    "ax.set_title(\"Scree Plot: Eigenvalues by Component\")\n",
    "ax.grid(True, linestyle=\":\", alpha=0.7)\n",
    "ax.legend()\n",
    "\n",
    "plt.tight_layout()\n",
    "scree_path = script_dir / \"pca_scree.png\"\n",
    "plt.savefig(scree_path, dpi=150, bbox_inches=\"tight\")\n",
    "logger.info(f\"Scree plot saved: {scree_path}\")\n",
    "plt.show()"
   ]
  },
  {
   "cell_type": "markdown",
   "id": "24c1133a",
   "metadata": {},
   "source": [
    "**Scree plot interpretation:**\n",
    "- Components with eigenvalues > 1.0 explain more variance than individual variables\n",
    "- The \"elbow\" indicates where additional components provide diminishing returns\n",
    "- Steep decline suggests strong underlying factor structure\n",
    "- Flat tail indicates measurement noise or minor factors"
   ]
  },
  {
   "cell_type": "markdown",
   "id": "61ffb489",
   "metadata": {},
   "source": [
    "## Biplot Visualization\n",
    "\n",
    "The biplot combines:\n",
    "- **Points**: Individual student scores on PC1 and PC2\n",
    "- **Arrows**: Variable loadings showing how each assessment contributes to the components\n",
    "\n",
    "**Interpretation guide:**\n",
    "- Arrow direction indicates which component the variable loads on\n",
    "- Arrow length indicates loading strength\n",
    "- Similar arrows suggest variables measure related constructs\n",
    "- Opposite arrows indicate negative correlation"
   ]
  },
  {
   "cell_type": "code",
   "execution_count": null,
   "id": "7bfb6fab",
   "metadata": {},
   "outputs": [],
   "source": [
    "fig, ax = plt.subplots(figsize=(10, 7))\n",
    "\n",
    "# Plot student scores\n",
    "pc1_scores = Z[:, 0]\n",
    "pc2_scores = Z[:, 1]\n",
    "\n",
    "scatter = ax.scatter(\n",
    "    pc1_scores,\n",
    "    pc2_scores,\n",
    "    c=pc1_scores,\n",
    "    cmap=\"viridis\",\n",
    "    alpha=0.6,\n",
    "    s=40,\n",
    "    edgecolors=\"black\",\n",
    "    linewidth=0.5,\n",
    ")\n",
    "colorbar = plt.colorbar(scatter, label=\"PC1 Score\")\n",
    "\n",
    "# Plot variable loadings as arrows\n",
    "scale_factor = max(pc1_scores.std(), pc2_scores.std()) * 3.5\n",
    "\n",
    "for i, var_name in enumerate(variable_names):\n",
    "    loading_x = pca.components_[0, i] * scale_factor\n",
    "    loading_y = pca.components_[1, i] * scale_factor\n",
    "\n",
    "    ax.arrow(\n",
    "        0,\n",
    "        0,\n",
    "        loading_x,\n",
    "        loading_y,\n",
    "        color=\"red\",\n",
    "        head_width=0.1,\n",
    "        alpha=0.8,\n",
    "        linewidth=2.5,\n",
    "        head_length=0.1,\n",
    "    )\n",
    "    ax.text(\n",
    "        loading_x * 1.15,\n",
    "        loading_y * 1.15,\n",
    "        var_name,\n",
    "        color=\"red\",\n",
    "        fontweight=\"bold\",\n",
    "        fontsize=11,\n",
    "        ha=\"center\",\n",
    "    )\n",
    "\n",
    "ax.set_xlabel(f\"PC1 ({explained_ratio[0]:.1%} of variance)\")\n",
    "ax.set_ylabel(f\"PC2 ({explained_ratio[1]:.1%} of variance)\")\n",
    "ax.set_title(\"PCA Biplot: Student Scores and Variable Loadings\")\n",
    "ax.grid(True, linestyle=\":\", alpha=0.3)\n",
    "ax.axhline(y=0, color=\"black\", linewidth=0.8)\n",
    "ax.axvline(x=0, color=\"black\", linewidth=0.8)\n",
    "\n",
    "plt.tight_layout()\n",
    "biplot_path = script_dir / \"pca_biplot.png\"\n",
    "plt.savefig(biplot_path, dpi=150, bbox_inches=\"tight\")\n",
    "logger.info(f\"Biplot saved: {biplot_path}\")\n",
    "plt.show()"
   ]
  },
  {
   "cell_type": "markdown",
   "id": "601e3aba",
   "metadata": {},
   "source": [
    "## Component Loadings Analysis\n",
    "\n",
    "Loadings show how each variable contributes to each principal component.\n",
    "High absolute loadings indicate strong relationships."
   ]
  },
  {
   "cell_type": "code",
   "execution_count": null,
   "id": "86dea10d",
   "metadata": {},
   "outputs": [],
   "source": [
    "# Create loadings table for first 3 components\n",
    "loadings_df = pd.DataFrame(\n",
    "    pca.components_[:3].T, columns=[\"PC1\", \"PC2\", \"PC3\"], index=variable_names\n",
    ")\n",
    "\n",
    "logger.info(\"Component Loadings Matrix:\")\n",
    "print(loadings_df.round(3))"
   ]
  },
  {
   "cell_type": "markdown",
   "id": "d571b169",
   "metadata": {},
   "source": [
    "### Loading Pattern Analysis"
   ]
  },
  {
   "cell_type": "code",
   "execution_count": null,
   "id": "6e458004",
   "metadata": {},
   "outputs": [],
   "source": [
    "# Analyze loading patterns to understand component meanings\n",
    "logger.info(\"\\nComponent Interpretation:\")\n",
    "\n",
    "# PC1 analysis\n",
    "pc1_high = loadings_df[\"PC1\"].abs().sort_values(ascending=False)\n",
    "logger.info(f\"PC1 ({explained_ratio[0]:.1%} variance) - highest loadings:\")\n",
    "for var, loading in pc1_high.head(3).items():\n",
    "    logger.info(f\"  {var}: {loading:.3f}\")\n",
    "\n",
    "# PC2 analysis\n",
    "pc2_high = loadings_df[\"PC2\"].abs().sort_values(ascending=False)\n",
    "logger.info(f\"\\nPC2 ({explained_ratio[1]:.1%} variance) - highest loadings:\")\n",
    "for var, loading in pc2_high.head(3).items():\n",
    "    logger.info(f\"  {var}: {loading:.3f}\")\n",
    "\n",
    "# Pattern validation\n",
    "cognitive_vars = [\"MathTest\", \"VerbalTest\"]\n",
    "social_vars = [\"SocialSkills\", \"Leadership\"]\n",
    "random_vars = [\"RandomVar1\", \"RandomVar2\"]\n",
    "\n",
    "if all(var in variable_names for var in cognitive_vars + social_vars + random_vars):\n",
    "    cognitive_strength = loadings_df.loc[cognitive_vars, \"PC1\"].abs().mean()\n",
    "    social_strength = loadings_df.loc[social_vars, \"PC2\"].abs().mean()\n",
    "    random_strength = loadings_df.loc[random_vars, [\"PC1\", \"PC2\"]].abs().max().max()\n",
    "\n",
    "    logger.info(\"\\nPattern Analysis:\")\n",
    "    logger.info(f\"Cognitive variables PC1 strength: {cognitive_strength:.3f}\")\n",
    "    logger.info(f\"Social variables PC2 strength: {social_strength:.3f}\")\n",
    "    logger.info(f\"Random variables max strength: {random_strength:.3f}\")\n",
    "\n",
    "    if min(cognitive_strength, social_strength) > random_strength * 1.5:\n",
    "        logger.info(\"✓ Clear factor structure detected\")\n",
    "    else:\n",
    "        logger.info(\"⚠ Mixed factor structure - typical for real data\")"
   ]
  },
  {
   "cell_type": "markdown",
   "id": "9bf80a60",
   "metadata": {},
   "source": [
    "## Student Score Analysis\n",
    "\n",
    "Examine how students rank on the principal components to understand\n",
    "the practical meaning of each dimension."
   ]
  },
  {
   "cell_type": "code",
   "execution_count": null,
   "id": "0196fb72",
   "metadata": {},
   "outputs": [],
   "source": [
    "# Create student ranking analysis\n",
    "student_scores = pd.DataFrame(\n",
    "    {\"Student_ID\": range(1, len(df) + 1), \"PC1_Score\": Z[:, 0], \"PC2_Score\": Z[:, 1]}\n",
    ")\n",
    "\n",
    "# Top performers on PC1\n",
    "top_pc1 = student_scores.nlargest(5, \"PC1_Score\")\n",
    "logger.info(\"Top 5 students on PC1 (likely general ability):\")\n",
    "for _, row in top_pc1.iterrows():\n",
    "    logger.info(\n",
    "        f\"  Student {int(row['Student_ID'])}: PC1={row['PC1_Score']:.3f}, PC2={row['PC2_Score']:.3f}\"\n",
    "    )\n",
    "\n",
    "# Top performers on PC2\n",
    "top_pc2 = student_scores.nlargest(5, \"PC2_Score\")\n",
    "logger.info(\"\\nTop 5 students on PC2 (secondary dimension):\")\n",
    "for _, row in top_pc2.iterrows():\n",
    "    logger.info(\n",
    "        f\"  Student {int(row['Student_ID'])}: PC1={row['PC1_Score']:.3f}, PC2={row['PC2_Score']:.3f}\"\n",
    "    )\n",
    "\n",
    "# Summary statistics\n",
    "logger.info(\"\\nScore distribution summary:\")\n",
    "logger.info(f\"PC1 range: [{Z[:, 0].min():.2f}, {Z[:, 0].max():.2f}]\")\n",
    "logger.info(f\"PC2 range: [{Z[:, 1].min():.2f}, {Z[:, 1].max():.2f}]\")\n",
    "logger.info(f\"PC1-PC2 correlation: {np.corrcoef(Z[:, 0], Z[:, 1])[0,1]:.3f}\")"
   ]
  },
  {
   "cell_type": "markdown",
   "id": "33f2547d",
   "metadata": {},
   "source": [
    "## Summary and Key Takeaways\n",
    "\n",
    "This PCA analysis revealed the underlying structure in student assessment data:\n",
    "\n",
    "**Main findings:**\n",
    "- **Dimensionality**: The data contains meaningful structure beyond individual variables\n",
    "- **Component interpretation**: PC1 likely represents general ability, PC2 captures specific skill differences\n",
    "- **Variance explanation**: The first few components explain most systematic variation\n",
    "- **Variable relationships**: Related assessments cluster together in component space\n",
    "\n",
    "**PCA principles demonstrated:**\n",
    "- **Maximum variance**: PCA finds directions of greatest data variation\n",
    "- **Orthogonality**: Components are uncorrelated, providing independent dimensions\n",
    "- **Dimensionality reduction**: Fewer components can capture most information\n",
    "- **Data visualization**: Biplots reveal both student patterns and variable relationships\n",
    "\n",
    "**Practical applications:**\n",
    "- **Student profiling**: Identify students with different ability patterns\n",
    "- **Assessment design**: Understand which skills are measured independently\n",
    "- **Data compression**: Reduce assessment battery while retaining key information\n",
    "- **Quality control**: Detect variables that don't contribute meaningful information\n",
    "\n",
    "**Next steps in multivariate analysis:**\n",
    "- Compare with Factor Analysis for potentially cleaner factor structure\n",
    "- Explore discriminant analysis for classification tasks\n",
    "- Apply cluster analysis to identify student groups\n",
    "- Use canonical correlation to relate assessment domains"
   ]
  }
 ],
 "metadata": {
  "jupytext": {
   "cell_metadata_filter": "-all",
   "main_language": "python",
   "notebook_metadata_filter": "-all"
  }
 },
 "nbformat": 4,
 "nbformat_minor": 5
}
