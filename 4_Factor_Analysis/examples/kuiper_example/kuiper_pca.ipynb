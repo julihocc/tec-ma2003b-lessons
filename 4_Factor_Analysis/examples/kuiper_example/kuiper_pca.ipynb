{
 "cells": [
  {
   "cell_type": "markdown",
   "id": "43d80acb",
   "metadata": {},
   "source": [
    "# Kuiper PCA example\n",
    "\n",
    "This script loads a small CSV of Kuiper Belt / trans-Neptunian object\n",
    "orbital parameters (generated synthetically to match real astronomical data)\n",
    "and runs PCA on the standardized variables. It follows the same concise pattern\n",
    "used by `invest_example.py`.\n",
    "\n",
    "**Data Dictionary**: See `KUIPER_BELT_DATA_DICTIONARY.md` in this folder for detailed\n",
    "explanations of each orbital parameter and their physical significance."
   ]
  },
  {
   "cell_type": "code",
   "execution_count": null,
   "id": "ff7332aa",
   "metadata": {},
   "outputs": [],
   "source": [
    "import sys\n",
    "from pathlib import Path\n",
    "\n",
    "import matplotlib.pyplot as plt\n",
    "import numpy as np\n",
    "import pandas as pd\n",
    "from sklearn.decomposition import PCA\n",
    "from sklearn.preprocessing import StandardScaler"
   ]
  },
  {
   "cell_type": "code",
   "execution_count": null,
   "id": "2acad08e",
   "metadata": {},
   "outputs": [],
   "source": [
    "# Simple behaviour: expect kuiper.csv in the same folder as this script\n",
    "script_dir = Path(__file__).resolve().parent\n",
    "data_path = script_dir / \"kuiper.csv\"\n",
    "if not data_path.exists():\n",
    "    print(\n",
    "        f\"Missing {data_path}. Run `fetch_kuiper.py` in the same folder to generate kuiper.csv\"\n",
    "    )\n",
    "    sys.exit(2)\n",
    "\n",
    "X = pd.read_csv(data_path)\n",
    "# If the CSV has a leading index-like column (common in some exports), drop it\n",
    "cols = list(X.columns)\n",
    "if cols and cols[0].lower() in (\"rownames\", \"index\"):\n",
    "    X = X.iloc[:, 1:]\n",
    "    cols = list(X.columns)"
   ]
  },
  {
   "cell_type": "markdown",
   "id": "d6c5eccc",
   "metadata": {},
   "source": [
    "## Preprocessing and PCA\n",
    "\n",
    "We standardize the input columns so PCA operates on a correlation-like\n",
    "matrix (each column will have mean ~0 and unit variance). This is common\n",
    "when variables have different units (e.g. AU vs degrees)."
   ]
  },
  {
   "cell_type": "code",
   "execution_count": null,
   "id": "8ec769c9",
   "metadata": {},
   "outputs": [],
   "source": [
    "# Standardize (use correlation-like behaviour)\n",
    "Xs = StandardScaler().fit_transform(X.values)\n",
    "\n",
    "# Fit PCA and extract scores and summaries\n",
    "pca = PCA()\n",
    "Z = pca.fit_transform(Xs)\n",
    "\n",
    "eigenvalues = pca.explained_variance_\n",
    "explained_ratio = pca.explained_variance_ratio_\n",
    "\n",
    "print(\"Eigenvalues:\", np.round(eigenvalues, 3))\n",
    "print(\"Explained ratio:\", np.round(explained_ratio, 3))\n",
    "print(\"Cumulative:\", np.round(np.cumsum(explained_ratio), 3))"
   ]
  },
  {
   "cell_type": "markdown",
   "id": "6b071084",
   "metadata": {},
   "source": [
    "### Quick interpretation of the printed results (concrete)\n",
    "\n",
    "Inspect the numeric summaries above before the figures. For a typical run\n",
    "of this Kuiper example you might see:\n",
    "\n",
    "- Eigenvalues: `[1.846, 1.170, 0.900, 0.827, 0.309]`\n",
    "- Explained ratio: `[0.365, 0.232, 0.178, 0.164, 0.061]`\n",
    "- Cumulative: `[0.365, 0.597, 0.775, 0.939, 1.000]`\n",
    "\n",
    "Interpretation:\n",
    "- The variance is distributed across multiple components: PC1 explains\n",
    "  about 36.5% and the first three PCs explain ~77.5%. This suggests 2–3\n",
    "  components are useful for a compact description of orbital-parameter\n",
    "  variation.\n",
    "- Use `pca.components_` to see which variables drive each PC. For example,\n",
    "  a PC that loads on inclination and eccentricity indicates a dynamical\n",
    "  excitation mode, while a contrast between semi-major axis and H could\n",
    "  separate distant faint objects from nearer/brighter ones.\n",
    "\n",
    "Practical follow-ups:\n",
    "- After examining the scree plot, inspect loadings and consider clustering\n",
    "  on the first 2–3 PC scores to find groups of similar objects.\n",
    "- If interpretability is needed, apply a rotation (varimax) to the leading\n",
    "  components to obtain sparser, easier-to-label factors."
   ]
  },
  {
   "cell_type": "markdown",
   "id": "bd3a38ea",
   "metadata": {},
   "source": [
    "### Scree plot — quick interpretation (Kuiper data)\n",
    "\n",
    "The scree plot below shows eigenvalues (variance explained) by component\n",
    "index. Look for an \"elbow\" where the curve flattens. Components left of\n",
    "the elbow capture most structured variation. Use the printed cumulative\n",
    "values to choose how many components to retain (e.g., 80% coverage)."
   ]
  },
  {
   "cell_type": "code",
   "execution_count": null,
   "id": "ef054eab",
   "metadata": {},
   "outputs": [],
   "source": [
    "plt.figure(figsize=(6, 3))\n",
    "components = np.arange(1, len(eigenvalues) + 1)\n",
    "plt.plot(components, eigenvalues, \"o-\", lw=2)\n",
    "plt.xticks(components)\n",
    "plt.xlabel(\"Component\")\n",
    "plt.ylabel(\"Eigenvalue\")\n",
    "plt.title(\"Kuiper example: Scree plot\")\n",
    "plt.grid(True, ls=\":\")\n",
    "plt.tight_layout()\n",
    "scree_out = script_dir / \"kuiper_scree.png\"\n",
    "scree_out.parent.mkdir(parents=True, exist_ok=True)\n",
    "plt.savefig(scree_out, dpi=150)\n",
    "print(f\"Saved {scree_out}\")"
   ]
  },
  {
   "cell_type": "markdown",
   "id": "848a5763",
   "metadata": {},
   "source": [
    "The scree plot helps decide how many components to examine. For orbital\n",
    "parameters, the first few PCs often summarize contrasts between eccentricity,\n",
    "inclination and semi-major axis. Inspect `pca.components_` to map PCs to\n",
    "these physical parameters."
   ]
  },
  {
   "cell_type": "markdown",
   "id": "d437306d",
   "metadata": {},
   "source": [
    "### Biplot (PC1 vs PC2) — interpretation notes (Kuiper data)\n",
    "\n",
    "The biplot overlays observation scores and variable loadings. Points are\n",
    "objects; arrows show how each orbital parameter loads on the first two\n",
    "principal components. Arrows that point in the same direction indicate\n",
    "positively correlated parameters; long arrows signal stronger influence."
   ]
  },
  {
   "cell_type": "code",
   "execution_count": null,
   "id": "af51a72a",
   "metadata": {},
   "outputs": [],
   "source": [
    "plt.figure(figsize=(5, 5))\n",
    "xs = Z[:, 0]\n",
    "ys = Z[:, 1]\n",
    "plt.scatter(xs, ys, alpha=0.6, s=20)\n",
    "for i, col in enumerate(cols):\n",
    "    vx, vy = pca.components_[:2, i] * max(xs.std(), ys.std()) * 3\n",
    "    plt.arrow(0, 0, vx, vy, color=\"r\", head_width=0.05)\n",
    "    plt.text(vx * 1.05, vy * 1.05, col, color=\"r\")\n",
    "plt.xlabel(\"PC1\")\n",
    "plt.ylabel(\"PC2\")\n",
    "plt.title(\"Kuiper example: Biplot (PC1 vs PC2)\")\n",
    "plt.grid(True, ls=\":\")\n",
    "plt.tight_layout()\n",
    "biplot_out = script_dir / \"kuiper_biplot.png\"\n",
    "biplot_out.parent.mkdir(parents=True, exist_ok=True)\n",
    "plt.savefig(biplot_out, dpi=150)\n",
    "print(f\"Saved {biplot_out}\")"
   ]
  },
  {
   "cell_type": "markdown",
   "id": "d60bfc6d",
   "metadata": {},
   "source": [
    "## Conclusion\n",
    "\n",
    "- Use the scree plot and cumulative numbers to choose how many components\n",
    "  to keep (aim for a coverage target appropriate to your goal).\n",
    "- Use the biplot and `pca.components_` to interpret which orbital\n",
    "  parameters drive the main modes of variation; consider rotation if you\n",
    "  need simpler factor-like interpretations.\n",
    "- PCA is linear and can be sensitive to outliers; for robust inference,\n",
    "  consider preprocessing and inspecting unusual observations."
   ]
  }
 ],
 "metadata": {
  "jupytext": {
   "cell_metadata_filter": "-all",
   "main_language": "python",
   "notebook_metadata_filter": "-all"
  }
 },
 "nbformat": 4,
 "nbformat_minor": 5
}
