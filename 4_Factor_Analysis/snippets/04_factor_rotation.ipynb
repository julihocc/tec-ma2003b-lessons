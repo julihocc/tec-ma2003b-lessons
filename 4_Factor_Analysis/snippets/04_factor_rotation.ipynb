{
 "cells": [
  {
   "cell_type": "markdown",
   "id": "53a8e010",
   "metadata": {},
   "source": [
    "# Factor Rotation Methods - MA2003B Multivariate Statistics Course\n",
    "\n",
    "This notebook demonstrates factor rotation techniques in Factor Analysis. Rotation improves interpretability by transforming the factor solution to achieve \"simple structure\" where variables load highly on few factors and factors are clearly distinct.\n",
    "\n",
    "## Learning Objectives:\n",
    "- Understand the purpose of factor rotation\n",
    "- Compare orthogonal (Varimax) vs oblique (Promax) rotation\n",
    "- See how rotation affects factor loadings and interpretability\n",
    "- Recognize when rotation improves factor structure\n",
    "\n",
    "**Data**: Simulated 100 observations × 3 variables to demonstrate rotation effects\n",
    "\n",
    "**Expected Output**:\n",
    "- Comparison of loadings before and after rotation\n",
    "- Demonstration of how rotation clarifies factor structure"
   ]
  },
  {
   "cell_type": "code",
   "execution_count": 1,
   "id": "d67b4dfe",
   "metadata": {},
   "outputs": [],
   "source": [
    "# Import Required Libraries\n",
    "import numpy as np\n",
    "from factor_analyzer import FactorAnalyzer"
   ]
  },
  {
   "cell_type": "code",
   "execution_count": 2,
   "id": "ccb3f5de",
   "metadata": {},
   "outputs": [],
   "source": [
    "# Generate Sample Data\n",
    "# Using 3 variables to show clear rotation effects on 2 factors\n",
    "np.random.seed(42)\n",
    "X = np.random.randn(100, 3)"
   ]
  },
  {
   "cell_type": "code",
   "execution_count": 3,
   "id": "b59a4990",
   "metadata": {},
   "outputs": [
    {
     "name": "stdout",
     "output_type": "stream",
     "text": [
      "Factor Rotation Comparison\n",
      "========================================\n",
      "Dataset: 100 observations × 3 variables\n",
      "Extracting 2 factors with different rotation methods\n"
     ]
    }
   ],
   "source": [
    "# Display Dataset Information\n",
    "print(\"Factor Rotation Comparison\")\n",
    "print(\"=\" * 40)\n",
    "print(f\"Dataset: {X.shape[0]} observations × {X.shape[1]} variables\")\n",
    "print(\"Extracting 2 factors with different rotation methods\")"
   ]
  },
  {
   "cell_type": "code",
   "execution_count": 4,
   "id": "8a1d5ea7",
   "metadata": {},
   "outputs": [
    {
     "name": "stdout",
     "output_type": "stream",
     "text": [
      "1. Unrotated Factor Solution:\n",
      "   Raw loadings - may be difficult to interpret\n",
      "   Factors are orthogonal but not necessarily meaningful\n",
      "[[-0.229  0.892]\n",
      " [ 0.885 -0.252]\n",
      " [-0.541 -0.514]]\n"
     ]
    },
    {
     "name": "stderr",
     "output_type": "stream",
     "text": [
      "/home/julihocc/ma2003b/ma2003b.worktrees/dev/.venv/lib/python3.12/site-packages/sklearn/utils/deprecation.py:132: FutureWarning: 'force_all_finite' was renamed to 'ensure_all_finite' in 1.6 and will be removed in 1.8.\n",
      "  warnings.warn(\n"
     ]
    }
   ],
   "source": [
    "# Method 1: No Rotation (Raw Factor Solution)\n",
    "# This gives the initial, often uninterpretable solution\n",
    "fa_no_rotation = FactorAnalyzer(n_factors=2, method=\"principal\")\n",
    "fa_no_rotation.fit(X)\n",
    "\n",
    "loadings_before = fa_no_rotation.loadings_\n",
    "\n",
    "print(\"1. Unrotated Factor Solution:\")\n",
    "print(\"   Raw loadings - may be difficult to interpret\")\n",
    "print(\"   Factors are orthogonal but not necessarily meaningful\")\n",
    "print(loadings_before.round(3))"
   ]
  },
  {
   "cell_type": "code",
   "execution_count": 5,
   "id": "13754644",
   "metadata": {},
   "outputs": [
    {
     "name": "stdout",
     "output_type": "stream",
     "text": [
      "2. Varimax Rotation (Orthogonal):\n",
      "   Simplifies factor structure while keeping factors uncorrelated\n",
      "   Each variable loads highly on one factor, minimally on others\n",
      "[[-0.148  0.868]\n",
      " [ 0.86  -0.172]\n",
      " [-0.585 -0.56 ]]\n"
     ]
    },
    {
     "name": "stderr",
     "output_type": "stream",
     "text": [
      "/home/julihocc/ma2003b/ma2003b.worktrees/dev/.venv/lib/python3.12/site-packages/sklearn/utils/deprecation.py:132: FutureWarning: 'force_all_finite' was renamed to 'ensure_all_finite' in 1.6 and will be removed in 1.8.\n",
      "  warnings.warn(\n"
     ]
    }
   ],
   "source": [
    "# Method 2: Varimax Rotation (Orthogonal)\n",
    "# Maximizes variance of squared loadings within factors\n",
    "# Maintains factor independence (orthogonal factors)\n",
    "fa_varimax = FactorAnalyzer(n_factors=2, rotation=\"varimax\", method=\"principal\")\n",
    "fa_varimax.fit(X)\n",
    "\n",
    "loadings_varimax = fa_varimax.loadings_\n",
    "\n",
    "print(\"2. Varimax Rotation (Orthogonal):\")\n",
    "print(\"   Simplifies factor structure while keeping factors uncorrelated\")\n",
    "print(\"   Each variable loads highly on one factor, minimally on others\")\n",
    "print(loadings_varimax.round(3))"
   ]
  },
  {
   "cell_type": "code",
   "execution_count": 6,
   "id": "1e0c4b99",
   "metadata": {},
   "outputs": [
    {
     "name": "stdout",
     "output_type": "stream",
     "text": [
      "3. Promax Rotation (Oblique):\n",
      "   Allows factors to correlate, which is often more realistic\n",
      "   May provide cleaner simple structure than orthogonal rotation\n",
      "[[-0.229  0.892]\n",
      " [ 0.885 -0.252]\n",
      " [-0.541 -0.514]]\n"
     ]
    },
    {
     "name": "stderr",
     "output_type": "stream",
     "text": [
      "/home/julihocc/ma2003b/ma2003b.worktrees/dev/.venv/lib/python3.12/site-packages/sklearn/utils/deprecation.py:132: FutureWarning: 'force_all_finite' was renamed to 'ensure_all_finite' in 1.6 and will be removed in 1.8.\n",
      "  warnings.warn(\n"
     ]
    }
   ],
   "source": [
    "# Method 3: Promax Rotation (Oblique)\n",
    "# Oblique rotation allowing factors to correlate\n",
    "# Often more realistic as psychological constructs are related\n",
    "fa_promax = FactorAnalyzer(n_factors=2, rotation=\"promax\", method=\"principal\")\n",
    "fa_promax.fit(X)\n",
    "\n",
    "loadings_promax = fa_promax.loadings_\n",
    "\n",
    "print(\"3. Promax Rotation (Oblique):\")\n",
    "print(\"   Allows factors to correlate, which is often more realistic\")\n",
    "print(\"   May provide cleaner simple structure than orthogonal rotation\")\n",
    "print(loadings_promax.round(3))"
   ]
  },
  {
   "cell_type": "code",
   "execution_count": 7,
   "id": "15698ee7",
   "metadata": {},
   "outputs": [],
   "source": [
    "# Additional rotation options available:\n",
    "# - 'oblimin': Alternative oblique rotation\n",
    "# - 'quartimax': Alternative orthogonal rotation\n",
    "# - None: No rotation (default)"
   ]
  },
  {
   "cell_type": "markdown",
   "id": "cf216073",
   "metadata": {},
   "source": [
    "## Rotation Comparison Summary\n",
    "\n",
    "- **Unrotated**: Mathematically optimal but often uninterpretable\n",
    "- **Varimax**: Simplifies structure, maintains orthogonality (factors uncorrelated)\n",
    "- **Promax**: Allows correlation between factors, often clearest interpretation\n",
    "- **Choose based on theoretical expectations** about whether factors should be independent"
   ]
  },
  {
   "cell_type": "markdown",
   "id": "fe463d84",
   "metadata": {},
   "source": [
    "## Key Insights\n",
    "\n",
    "- **Rotation doesn't change the overall fit**, only the factor orientation in the variable space\n",
    "- **Goal is to achieve 'simple structure'** for better interpretability\n",
    "- **Orthogonal vs oblique** depends on whether factors should theoretically be independent\n",
    "- **Always compare rotated solutions** to ensure the chosen rotation improves interpretability"
   ]
  }
 ],
 "metadata": {
  "kernelspec": {
   "display_name": "ma2003b-course",
   "language": "python",
   "name": "python3"
  },
  "language_info": {
   "codemirror_mode": {
    "name": "ipython",
    "version": 3
   },
   "file_extension": ".py",
   "mimetype": "text/x-python",
   "name": "python",
   "nbconvert_exporter": "python",
   "pygments_lexer": "ipython3",
   "version": "3.12.3"
  }
 },
 "nbformat": 4,
 "nbformat_minor": 5
}
