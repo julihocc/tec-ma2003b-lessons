{
 "cells": [
  {
   "cell_type": "markdown",
   "id": "e516147a",
   "metadata": {},
   "source": [
    "# PCA Basic Example - MA2003B Multivariate Statistics Course\n",
    "\n",
    "This notebook demonstrates the fundamental concepts of Principal Component Analysis (PCA) using a simple 3×2 dataset. PCA is a dimensionality reduction technique that identifies the principal components (directions of maximum variance) in the data.\n",
    "\n",
    "## Learning Objectives:\n",
    "- Understand how PCA transforms correlated variables into uncorrelated principal components\n",
    "- Interpret eigenvalues and explained variance ratios\n",
    "- See how PCA rotates the coordinate system to align with data variance\n",
    "\n",
    "**Data**: Simple 3 observations × 2 variables matrix to illustrate core concepts\n",
    "\n",
    "**Expected Output**:\n",
    "- PC1 captures most variance (horizontal spread)\n",
    "- PC2 captures remaining variance (vertical spread)\n",
    "- Transformed data shows uncorrelated coordinates"
   ]
  },
  {
   "cell_type": "code",
   "execution_count": 1,
   "id": "4652ea90",
   "metadata": {},
   "outputs": [],
   "source": [
    "# Import Required Libraries\n",
    "import numpy as np\n",
    "from sklearn.decomposition import PCA\n",
    "from scipy.linalg import eigh"
   ]
  },
  {
   "cell_type": "code",
   "execution_count": 2,
   "id": "67b2b8e6",
   "metadata": {},
   "outputs": [],
   "source": [
    "# Create Sample Data\n",
    "# This represents a simple bivariate dataset where points form a diagonal pattern\n",
    "X = np.array(\n",
    "    [\n",
    "        [5, 3],  # Point with high values on both variables\n",
    "        [3, 1],  # Point with moderate values\n",
    "        [1, 3],  # Point showing the correlation pattern\n",
    "    ]\n",
    ")"
   ]
  },
  {
   "cell_type": "code",
   "execution_count": 3,
   "id": "29d0ddb6",
   "metadata": {},
   "outputs": [
    {
     "name": "stdout",
     "output_type": "stream",
     "text": [
      "Original Data Matrix:\n",
      "Observations (rows) × Variables (columns)\n",
      "[[5 3]\n",
      " [3 1]\n",
      " [1 3]]\n"
     ]
    }
   ],
   "source": [
    "# Display Original Data\n",
    "print(\"Original Data Matrix:\")\n",
    "print(\"Observations (rows) × Variables (columns)\")\n",
    "print(X)"
   ]
  },
  {
   "cell_type": "code",
   "execution_count": 4,
   "id": "f58599be",
   "metadata": {},
   "outputs": [],
   "source": [
    "# Initialize PCA\n",
    "# No component limit means extract all possible components\n",
    "pca = PCA()"
   ]
  },
  {
   "cell_type": "code",
   "execution_count": 5,
   "id": "f270d492",
   "metadata": {},
   "outputs": [],
   "source": [
    "# Fit and Transform Data\n",
    "# fit_transform() centers the data and rotates it to align with principal components\n",
    "X_transformed = pca.fit_transform(X)"
   ]
  },
  {
   "cell_type": "code",
   "execution_count": 6,
   "id": "19cb8a0a",
   "metadata": {},
   "outputs": [
    {
     "name": "stdout",
     "output_type": "stream",
     "text": [
      "Covariance Matrix of X:\n",
      "[[4.         0.        ]\n",
      " [0.         1.33333333]]\n"
     ]
    }
   ],
   "source": [
    "# Calculate covariance matrix for X\n",
    "cov_matrix = np.cov(X, rowvar=False)\n",
    "print(\"Covariance Matrix of X:\")\n",
    "print(cov_matrix)"
   ]
  },
  {
   "cell_type": "code",
   "execution_count": 7,
   "id": "80a30266",
   "metadata": {},
   "outputs": [
    {
     "name": "stdout",
     "output_type": "stream",
     "text": [
      "Eigenvalues:\n",
      "[4.         1.33333333]\n",
      "\n",
      "Eigenvectors (columns):\n",
      "[[-1.  0.]\n",
      " [-0. -1.]]\n"
     ]
    }
   ],
   "source": [
    "# Calculate eigenvalues and eigenvectors using scipy\n",
    "eigenvalues_scipy, eigenvectors_scipy = eigh(cov_matrix)\n",
    "\n",
    "# Sort in descending order (eigh returns ascending)\n",
    "idx = eigenvalues_scipy.argsort()[::-1]\n",
    "eigenvalues_scipy = eigenvalues_scipy[idx]\n",
    "eigenvectors_scipy = eigenvectors_scipy[:, idx]\n",
    "\n",
    "print(\"Eigenvalues:\")\n",
    "print(eigenvalues_scipy)\n",
    "print(\"\\nEigenvectors (columns):\")\n",
    "print(eigenvectors_scipy)"
   ]
  },
  {
   "cell_type": "code",
   "execution_count": 8,
   "id": "23d77664",
   "metadata": {
    "vscode": {
     "languageId": "markdown"
    }
   },
   "outputs": [
    {
     "name": "stdout",
     "output_type": "stream",
     "text": [
      "Manual transformation (using scipy eigenvectors):\n",
      "[[-2.         -0.66666667]\n",
      " [ 0.          1.33333333]\n",
      " [ 2.         -0.66666667]]\n"
     ]
    }
   ],
   "source": [
    "# ## Manual Transformation using Scipy Eigenvectors\n",
    "#\n",
    "# The transformed data (X_transformed) is obtained by projecting the centered original data onto the principal component directions (eigenvectors).\n",
    "#\n",
    "# Steps:\n",
    "# 1. **Center the data**: Subtract the mean of each variable from the original data matrix X.\n",
    "# 2. **Multiply by the eigenvector matrix**: Use the eigenvectors from scipy as directions.\n",
    "#\n",
    "# This allows us to compare the manual calculation with scikit-learn's result.\n",
    "\n",
    "X_centered = X - X.mean(axis=0)\n",
    "X_manual_transformed = X_centered @ eigenvectors_scipy\n",
    "\n",
    "print(\"Manual transformation (using scipy eigenvectors):\")\n",
    "print(X_manual_transformed)"
   ]
  },
  {
   "cell_type": "code",
   "execution_count": 11,
   "id": "bffff48b",
   "metadata": {},
   "outputs": [
    {
     "name": "stdout",
     "output_type": "stream",
     "text": [
      "\n",
      "Manual transformation (using sympy eigenvectors):\n",
      "[[-2.         -0.66666667]\n",
      " [ 0.          1.33333333]\n",
      " [ 2.         -0.66666667]]\n"
     ]
    }
   ],
   "source": [
    "# ## Manual Transformation using Sympy Eigenvectors\n",
    "#\n",
    "# The transformed data (X_transformed) is obtained by projecting the centered original data onto the principal component directions (eigenvectors).\n",
    "#\n",
    "# Steps:\n",
    "# 1. **Center the data**: Subtract the mean of each variable from the original data matrix X.\n",
    "# 2. **Multiply by the eigenvector matrix**: Use the eigenvectors from sympy as directions.\n",
    "#\n",
    "# This allows us to compare the manual calculation with scikit-learn's result.\n",
    "\n",
    "X_centered = X - X.mean(axis=0)\n",
    "X_manual_transformed = X_centered @ eigenvectors_scipy\n",
    "\n",
    "print(\"\\nManual transformation (using sympy eigenvectors):\")\n",
    "print(X_manual_transformed)"
   ]
  },
  {
   "cell_type": "code",
   "execution_count": 12,
   "id": "ee30a368",
   "metadata": {},
   "outputs": [
    {
     "name": "stdout",
     "output_type": "stream",
     "text": [
      "\n",
      "==================================================\n",
      "PCA Results from scikit-learn:\n",
      "==================================================\n",
      "Eigenvalues: [4.         1.33333333]\n",
      "Explained variance ratio (PC1): 0.750\n",
      "Explained variance ratio (PC2): 0.250\n"
     ]
    }
   ],
   "source": [
    "# Extract PCA Results from scikit-learn\n",
    "eigenvalues = pca.explained_variance_\n",
    "eigenvectors = pca.components_.T\n",
    "variance_ratio = pca.explained_variance_ratio_\n",
    "\n",
    "# Display Eigenvalues and Variance Ratios\n",
    "print(\"\\n\" + \"=\" * 50)\n",
    "print(\"PCA Results from scikit-learn:\")\n",
    "print(\"=\" * 50)\n",
    "print(f\"Eigenvalues: {eigenvalues}\")\n",
    "print(f\"Explained variance ratio (PC1): {variance_ratio[0]:.3f}\")\n",
    "print(f\"Explained variance ratio (PC2): {variance_ratio[1]:.3f}\")"
   ]
  },
  {
   "cell_type": "code",
   "execution_count": 13,
   "id": "8359c139",
   "metadata": {},
   "outputs": [
    {
     "name": "stdout",
     "output_type": "stream",
     "text": [
      "\n",
      "Principal Component Directions (Eigenvectors from scikit-learn):\n",
      "[[1. 0.]\n",
      " [0. 1.]]\n"
     ]
    }
   ],
   "source": [
    "# Display Principal Component Directions from scikit-learn\n",
    "print(\"\\nPrincipal Component Directions (Eigenvectors from scikit-learn):\")\n",
    "print(eigenvectors)"
   ]
  },
  {
   "cell_type": "code",
   "execution_count": 14,
   "id": "9b38dbb7",
   "metadata": {},
   "outputs": [
    {
     "name": "stdout",
     "output_type": "stream",
     "text": [
      "\n",
      "Transformed Data from scikit-learn:\n",
      "[[ 2.          0.66666667]\n",
      " [-0.         -1.33333333]\n",
      " [-2.          0.66666667]]\n",
      "\n",
      "==================================================\n",
      "Comparison: Are both transformations equal?\n",
      "==================================================\n",
      "Difference (max absolute error): 4.0000000000\n"
     ]
    }
   ],
   "source": [
    "# Compare transformations\n",
    "print(\"\\nTransformed Data from scikit-learn:\")\n",
    "print(X_transformed)\n",
    "\n",
    "print(\"\\n\" + \"=\" * 50)\n",
    "print(\"Comparison: Are both transformations equal?\")\n",
    "print(\"=\" * 50)\n",
    "print(\n",
    "    f\"Difference (max absolute error): {np.max(np.abs(X_transformed - X_manual_transformed)):.10f}\"\n",
    ")"
   ]
  },
  {
   "cell_type": "markdown",
   "id": "87e42ad2",
   "metadata": {},
   "source": [
    "## Interpretation\n",
    "\n",
    "- **PC1** captures the main diagonal trend in the data (most variance)\n",
    "- **PC2** captures the remaining perpendicular variation (less variance)\n",
    "- The transformation **decorrelates the original variables** - they become uncorrelated in the new coordinate system\n",
    "- PCA rotates the coordinate system to align with the directions of maximum variance"
   ]
  }
 ],
 "metadata": {
  "kernelspec": {
   "display_name": ".venv",
   "language": "python",
   "name": "python3"
  },
  "language_info": {
   "codemirror_mode": {
    "name": "ipython",
    "version": 3
   },
   "file_extension": ".py",
   "mimetype": "text/x-python",
   "name": "python",
   "nbconvert_exporter": "python",
   "pygments_lexer": "ipython3",
   "version": "3.12.3"
  }
 },
 "nbformat": 4,
 "nbformat_minor": 5
}
