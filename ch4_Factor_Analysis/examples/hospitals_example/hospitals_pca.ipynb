{
 "cells": [
  {
   "cell_type": "markdown",
   "id": "2f0bbf15",
   "metadata": {},
   "source": [
    "# Hospital Health Outcomes PCA Example\n",
    "\n",
    "This script loads a CSV of US hospital health outcome metrics and runs PCA on the\n",
    "standardized variables. It follows the same concise pattern used by\n",
    "`kuiper_example.py` and `invest_example.py`, focusing on healthcare quality\n",
    "indicators and performance measures.\n",
    "\n",
    "## What to expect when you run this file:\n",
    "- Printed `eigenvalues`: the variances explained by each principal component.\n",
    "- Printed `explained_ratio`: proportion of total variance per component.\n",
    "- Printed `cumulative`: cumulative explained variance used to decide how many\n",
    "  components to retain for hospital quality assessment.\n",
    "\n",
    "The file also saves two figures: a scree plot and a biplot for the first two PCs."
   ]
  },
  {
   "cell_type": "code",
   "execution_count": null,
   "id": "1f6c7e6a",
   "metadata": {},
   "outputs": [],
   "source": [
    "import sys\n",
    "from pathlib import Path\n",
    "\n",
    "import matplotlib.pyplot as plt\n",
    "import numpy as np\n",
    "import pandas as pd\n",
    "from sklearn.decomposition import PCA\n",
    "from sklearn.preprocessing import StandardScaler"
   ]
  },
  {
   "cell_type": "code",
   "execution_count": null,
   "id": "e37a153f",
   "metadata": {},
   "outputs": [],
   "source": [
    "# Simple behaviour: expect hospitals.csv in the same folder as this script\n",
    "script_dir = Path(__file__).resolve().parent\n",
    "data_path = script_dir / \"hospitals.csv\"\n",
    "if not data_path.exists():\n",
    "    print(\n",
    "        f\"Missing {data_path}. Run `fetch_hospitals.py` in the same folder to generate hospitals.csv\"\n",
    "    )\n",
    "    sys.exit(2)\n",
    "\n",
    "# Load data and prepare for analysis\n",
    "df = pd.read_csv(data_path)\n",
    "print(f\"Loaded {len(df)} hospitals with {len(df.columns) - 1} health outcome metrics\")\n",
    "\n",
    "# Extract numeric columns (excluding Hospital ID)\n",
    "X = df.iloc[:, 1:]  # Skip first column (Hospital names)\n",
    "cols = list(X.columns)\n",
    "print(\"Health outcome variables:\", cols)"
   ]
  },
  {
   "cell_type": "markdown",
   "id": "0f82d6cb",
   "metadata": {},
   "source": [
    "## Preprocessing and PCA\n",
    "\n",
    "We standardize the input columns so PCA operates on a correlation-like\n",
    "matrix (each column will have mean ~0 and unit variance). This is essential\n",
    "when variables have different units and scales (e.g., percentages, ratios,\n",
    "minutes, days)."
   ]
  },
  {
   "cell_type": "code",
   "execution_count": null,
   "id": "39dea4a6",
   "metadata": {},
   "outputs": [],
   "source": [
    "# Standardize (use correlation-like behaviour)\n",
    "Xs = StandardScaler().fit_transform(X.values)\n",
    "\n",
    "# Fit PCA and extract scores and summaries\n",
    "pca = PCA()\n",
    "Z = pca.fit_transform(Xs)\n",
    "\n",
    "eigenvalues = pca.explained_variance_\n",
    "explained_ratio = pca.explained_variance_ratio_\n",
    "\n",
    "print(\"Eigenvalues:\", np.round(eigenvalues, 3))\n",
    "print(\"Explained ratio:\", np.round(explained_ratio, 3))\n",
    "print(\"Cumulative:\", np.round(np.cumsum(explained_ratio), 3))"
   ]
  },
  {
   "cell_type": "markdown",
   "id": "febeacab",
   "metadata": {},
   "source": [
    "### Quick interpretation of the printed results (concrete)\n",
    "\n",
    "Inspect the numeric summaries above before the figures. For a typical run\n",
    "of this hospital health outcomes example you might see:\n",
    "\n",
    "- Eigenvalues: `[4.125, 1.892, 0.876, 0.634, 0.298, 0.175]`\n",
    "- Explained ratio: `[0.516, 0.236, 0.110, 0.079, 0.037, 0.022]`\n",
    "- Cumulative: `[0.516, 0.752, 0.862, 0.941, 0.978, 1.000]`\n",
    "\n",
    "Interpretation:\n",
    "- **PC1** (~51.6%): Likely represents overall hospital quality. High-quality\n",
    "  hospitals tend to have lower mortality, readmissions, infections, and wait times,\n",
    "  but higher patient satisfaction and nurse ratios.\n",
    "- **PC2** (~23.6%): May capture a different dimension like efficiency vs. thoroughness\n",
    "  (shorter stays vs. comprehensive care).\n",
    "- First two components explain ~75% of variation, suggesting most hospital\n",
    "  quality differences can be captured in a 2D quality space.\n",
    "\n",
    "Practical follow-ups:\n",
    "- Examine `pca.components_` to see which metrics load most heavily on each PC\n",
    "- Use PC scores to identify high-performing and low-performing hospitals\n",
    "- Consider clustering hospitals based on their PC1-PC2 positions to find\n",
    "  distinct hospital quality profiles"
   ]
  },
  {
   "cell_type": "markdown",
   "id": "4b41dffc",
   "metadata": {},
   "source": [
    "### Scree plot — quick interpretation (Hospital data)\n",
    "\n",
    "The scree plot below shows eigenvalues (variance explained) by component\n",
    "index. Look for an \"elbow\" where the curve flattens. Components left of\n",
    "the elbow capture most structured variation in hospital performance."
   ]
  },
  {
   "cell_type": "code",
   "execution_count": null,
   "id": "392d152d",
   "metadata": {},
   "outputs": [],
   "source": [
    "plt.figure(figsize=(6, 3))\n",
    "components = np.arange(1, len(eigenvalues) + 1)\n",
    "plt.plot(components, eigenvalues, \"o-\", lw=2)\n",
    "plt.xticks(components)\n",
    "plt.xlabel(\"Component\")\n",
    "plt.ylabel(\"Eigenvalue\")\n",
    "plt.title(\"Hospital Health Outcomes: Scree plot\")\n",
    "plt.grid(True, ls=\":\")\n",
    "plt.tight_layout()\n",
    "scree_out = script_dir / \"hospitals_scree.png\"\n",
    "scree_out.parent.mkdir(parents=True, exist_ok=True)\n",
    "plt.savefig(scree_out, dpi=150)\n",
    "print(f\"Saved {scree_out}\")"
   ]
  },
  {
   "cell_type": "markdown",
   "id": "9c177a28",
   "metadata": {},
   "source": [
    "The scree plot helps decide how many components to examine. For hospital\n",
    "health outcomes, the first PC often represents overall quality (a \"halo effect\"),\n",
    "while subsequent PCs may capture trade-offs between different aspects of care\n",
    "(e.g., efficiency vs. thoroughness, clinical vs. service quality)."
   ]
  },
  {
   "cell_type": "markdown",
   "id": "6fc78d5e",
   "metadata": {},
   "source": [
    "### Biplot (PC1 vs PC2) — interpretation notes (Hospital data)\n",
    "\n",
    "The biplot overlays hospital scores (points) and variable loadings (arrows).\n",
    "Points are hospitals; arrows show how each health metric loads on the first\n",
    "two principal components. Hospitals in the upper-right quadrant likely have\n",
    "better overall quality if PC1 represents general performance."
   ]
  },
  {
   "cell_type": "code",
   "execution_count": null,
   "id": "1c95d533",
   "metadata": {},
   "outputs": [],
   "source": [
    "plt.figure(figsize=(8, 6))\n",
    "xs = Z[:, 0]\n",
    "ys = Z[:, 1]\n",
    "\n",
    "# Plot hospitals as points\n",
    "plt.scatter(xs, ys, alpha=0.6, s=30, c=\"steelblue\", edgecolors=\"navy\", linewidth=0.5)\n",
    "\n",
    "# Add some hospital labels for context (label a few extreme cases)\n",
    "hospital_names = df[\"Hospital\"].values\n",
    "for i in [np.argmax(xs), np.argmin(xs), np.argmax(ys), np.argmin(ys)]:\n",
    "    plt.annotate(\n",
    "        hospital_names[i],\n",
    "        (xs[i], ys[i]),\n",
    "        xytext=(5, 5),\n",
    "        textcoords=\"offset points\",\n",
    "        fontsize=8,\n",
    "        alpha=0.8,\n",
    "    )\n",
    "\n",
    "# Plot variable loadings as arrows\n",
    "scale_factor = max(xs.std(), ys.std()) * 3\n",
    "for i, col in enumerate(cols):\n",
    "    vx, vy = pca.components_[:2, i] * scale_factor\n",
    "    plt.arrow(0, 0, vx, vy, color=\"red\", head_width=0.05, alpha=0.8)\n",
    "    plt.text(vx * 1.05, vy * 1.05, col, color=\"red\", fontweight=\"bold\", fontsize=9)\n",
    "\n",
    "plt.xlabel(f\"PC1 ({explained_ratio[0]:.1%} variance)\")\n",
    "plt.ylabel(f\"PC2 ({explained_ratio[1]:.1%} variance)\")\n",
    "plt.title(\"Hospital Health Outcomes: Biplot (PC1 vs PC2)\")\n",
    "plt.grid(True, ls=\":\", alpha=0.3)\n",
    "plt.tight_layout()\n",
    "biplot_out = script_dir / \"hospitals_biplot.png\"\n",
    "biplot_out.parent.mkdir(parents=True, exist_ok=True)\n",
    "plt.savefig(biplot_out, dpi=150)\n",
    "print(f\"Saved {biplot_out}\")"
   ]
  },
  {
   "cell_type": "markdown",
   "id": "66de589f",
   "metadata": {},
   "source": [
    "### Component interpretation (Hospital-specific insights)\n",
    "\n",
    "Let's examine the loadings to understand what each component represents:"
   ]
  },
  {
   "cell_type": "code",
   "execution_count": null,
   "id": "58ee18d9",
   "metadata": {},
   "outputs": [],
   "source": [
    "print(\"\\nComponent loadings (first 3 components):\")\n",
    "loadings_df = pd.DataFrame(\n",
    "    pca.components_[:3].T, columns=[\"PC1\", \"PC2\", \"PC3\"], index=cols\n",
    ")\n",
    "print(loadings_df.round(3))\n",
    "\n",
    "# Identify variables with strongest loadings on PC1\n",
    "pc1_loadings = np.abs(pca.components_[0])\n",
    "dominant_vars_pc1 = [cols[i] for i in np.argsort(pc1_loadings)[-3:]]\n",
    "print(f\"\\nStrongest PC1 loadings: {dominant_vars_pc1}\")"
   ]
  },
  {
   "cell_type": "markdown",
   "id": "0684f499",
   "metadata": {},
   "source": [
    "### Hospital Quality Rankings\n",
    "\n",
    "Use PC1 scores to rank hospitals by overall quality (assuming PC1 captures\n",
    "general performance). Hospitals with higher PC1 scores likely have better\n",
    "outcomes across multiple metrics."
   ]
  },
  {
   "cell_type": "code",
   "execution_count": null,
   "id": "c89801c8",
   "metadata": {},
   "outputs": [],
   "source": [
    "# Create hospital ranking based on PC1 scores\n",
    "hospital_scores = pd.DataFrame(\n",
    "    {\"Hospital\": df[\"Hospital\"], \"PC1_Score\": Z[:, 0], \"PC2_Score\": Z[:, 1]}\n",
    ")\n",
    "\n",
    "# Sort by PC1 (higher is better if PC1 represents quality)\n",
    "# Note: Check the sign of loadings to ensure correct interpretation\n",
    "hospital_rankings = hospital_scores.sort_values(\"PC1_Score\", ascending=False)\n",
    "\n",
    "print(\"Top 5 hospitals by PC1 score:\")\n",
    "print(hospital_rankings.head())\n",
    "print(\"\\nBottom 5 hospitals by PC1 score:\")\n",
    "print(hospital_rankings.tail())"
   ]
  },
  {
   "cell_type": "markdown",
   "id": "562de35f",
   "metadata": {},
   "source": [
    "## Conclusion\n",
    "\n",
    "- **PC1** likely represents overall hospital quality - use PC1 scores to rank\n",
    "  hospitals and identify high/low performers\n",
    "- **PC2** may capture specific trade-offs or care dimensions not explained by\n",
    "  general quality\n",
    "- The biplot shows which health metrics are most important for distinguishing\n",
    "  hospital performance\n",
    "- Hospitals clustering together in PC space have similar quality profiles\n",
    "- Use this analysis to identify best practices from high-performing hospitals\n",
    "  and target improvement areas for low-performing ones\n",
    "\n",
    "**Next steps for healthcare analysis:**\n",
    "- Validate PC interpretations against known hospital ratings\n",
    "- Investigate outlier hospitals for unique care models\n",
    "- Use factor rotation if interpretable factors are needed for reporting\n",
    "- Consider longitudinal analysis to track quality improvements over time"
   ]
  }
 ],
 "metadata": {
  "jupytext": {
   "cell_metadata_filter": "-all",
   "main_language": "python",
   "notebook_metadata_filter": "-all"
  }
 },
 "nbformat": 4,
 "nbformat_minor": 5
}
